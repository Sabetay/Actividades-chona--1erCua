{
 "cells": [
  {
   "cell_type": "code",
   "execution_count": null,
   "metadata": {},
   "outputs": [],
   "source": [
    "import pandas as pd\n",
    "partidos: pd.DataFrame = pd.read_csv (\n",
    "\"https://raw.githubusercontent.com/IgnacioPardo/Tecnologias_Exponenciales_2025/refs/heads/main/qatar.csv\"\n",
    "                                       )\n",
    "partidos\n",
    "\n",
    "\"\"\"filto_arg_local = (partidos[\"1\"]=\"ARGENTINA\")\n",
    "part_arg_local : pd.DataFrame = partidos [filtro_arg_local]\n",
    "goles_local = part_arg_local [1_goals]\n",
    "\n",
    "goles_local.iloc[4],goles_local.lpc [4]\n",
    "sum_goles_local = goles_local_sum()\n",
    "sum_goles_local\n",
    "\n",
    "#Hacer lo de goles_local_sum,\n",
    "#Ver los goles de arg visitantes,\n",
    "#Sumar los goles locales y los visitantes\n",
    "\"\"\"\n",
    "\n",
    "\n",
    "\n",
    "\n",
    "\n",
    "(partidos.groupby(\"1\")[\"1_goals\"].sum() + partidos.groupby(\"2\")[\"2_goals\"].sum())\n",
    "\n",
    "\n"
   ]
  }
 ],
 "metadata": {
  "language_info": {
   "name": "python"
  }
 },
 "nbformat": 4,
 "nbformat_minor": 2
}
