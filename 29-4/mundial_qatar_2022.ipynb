{
 "cells": [
  {
   "cell_type": "markdown",
   "metadata": {},
   "source": [
    "## Librerias"
   ]
  },
  {
   "cell_type": "code",
   "execution_count": 4,
   "metadata": {},
   "outputs": [],
   "source": [
    "try:\n",
    "    import pandas as pd\n",
    "except ImportError:\n",
    "    print(\"Pandas not installed\")\n",
    "    %pip install pandas --user\n",
    "\n",
    "try:\n",
    "    import matplotlib.pyplot as plt\n",
    "except ImportError:\n",
    "    print(\"Matplotlib not installed\")\n",
    "    %pip install matplotlib --user\n",
    "\n",
    "import ssl\n",
    "\n",
    "ssl._create_default_https_context = ssl._create_unverified_context"
   ]
  },
  {
   "cell_type": "code",
   "execution_count": 5,
   "metadata": {},
   "outputs": [],
   "source": [
    "import pandas as pd\n",
    "import matplotlib.pyplot as plt"
   ]
  },
  {
   "cell_type": "markdown",
   "metadata": {},
   "source": [
    "## Lectura de datos\n",
    "\n",
    "- [Dataset Qatar 2022: https://www.kaggle.com/datasets/shrikrishnaparab/fifa-world-cup-2022-qatar-match-data](https://www.kaggle.com/datasets/shrikrishnaparab/fifa-world-cup-2022-qatar-match-data)"
   ]
  },
  {
   "cell_type": "code",
   "execution_count": 4,
   "metadata": {},
   "outputs": [
    {
     "data": {
      "text/html": [
       "<div>\n",
       "<style scoped>\n",
       "    .dataframe tbody tr th:only-of-type {\n",
       "        vertical-align: middle;\n",
       "    }\n",
       "\n",
       "    .dataframe tbody tr th {\n",
       "        vertical-align: top;\n",
       "    }\n",
       "\n",
       "    .dataframe thead th {\n",
       "        text-align: right;\n",
       "    }\n",
       "</style>\n",
       "<table border=\"1\" class=\"dataframe\">\n",
       "  <thead>\n",
       "    <tr style=\"text-align: right;\">\n",
       "      <th></th>\n",
       "      <th>match_no</th>\n",
       "      <th>day_of_week</th>\n",
       "      <th>date</th>\n",
       "      <th>hour</th>\n",
       "      <th>venue</th>\n",
       "      <th>referee</th>\n",
       "      <th>group</th>\n",
       "      <th>1</th>\n",
       "      <th>2</th>\n",
       "      <th>attendance</th>\n",
       "      <th>...</th>\n",
       "      <th>1_panelties_scored</th>\n",
       "      <th>2_panelties_scored</th>\n",
       "      <th>1_goal_prevented</th>\n",
       "      <th>2_goal_prevented</th>\n",
       "      <th>1_own_goal</th>\n",
       "      <th>2_own_goal</th>\n",
       "      <th>1_forced_turnovers</th>\n",
       "      <th>2_forced_turnovers</th>\n",
       "      <th>1_defensive_pressure_applied</th>\n",
       "      <th>2_defensive_pressure_applied</th>\n",
       "    </tr>\n",
       "  </thead>\n",
       "  <tbody>\n",
       "    <tr>\n",
       "      <th>0</th>\n",
       "      <td>1</td>\n",
       "      <td>Sun</td>\n",
       "      <td>20-Nov-22</td>\n",
       "      <td>17:00</td>\n",
       "      <td>Al Bayt Stadium</td>\n",
       "      <td>Daniele Orsato</td>\n",
       "      <td>Group A</td>\n",
       "      <td>QATAR</td>\n",
       "      <td>ECUADOR</td>\n",
       "      <td>67372</td>\n",
       "      <td>...</td>\n",
       "      <td>0</td>\n",
       "      <td>1</td>\n",
       "      <td>6</td>\n",
       "      <td>5</td>\n",
       "      <td>0</td>\n",
       "      <td>0</td>\n",
       "      <td>52</td>\n",
       "      <td>72</td>\n",
       "      <td>256</td>\n",
       "      <td>279</td>\n",
       "    </tr>\n",
       "    <tr>\n",
       "      <th>1</th>\n",
       "      <td>2</td>\n",
       "      <td>Mon</td>\n",
       "      <td>21-Nov-22</td>\n",
       "      <td>14:00</td>\n",
       "      <td>Khalifa International Stadium</td>\n",
       "      <td>Raphael Claus</td>\n",
       "      <td>Group B</td>\n",
       "      <td>ENGLAND</td>\n",
       "      <td>IRAN</td>\n",
       "      <td>45334</td>\n",
       "      <td>...</td>\n",
       "      <td>0</td>\n",
       "      <td>1</td>\n",
       "      <td>8</td>\n",
       "      <td>13</td>\n",
       "      <td>0</td>\n",
       "      <td>0</td>\n",
       "      <td>63</td>\n",
       "      <td>72</td>\n",
       "      <td>139</td>\n",
       "      <td>416</td>\n",
       "    </tr>\n",
       "    <tr>\n",
       "      <th>2</th>\n",
       "      <td>3</td>\n",
       "      <td>Mon</td>\n",
       "      <td>21-Nov-22</td>\n",
       "      <td>17:00</td>\n",
       "      <td>Al Thumama Stadium</td>\n",
       "      <td>Wilton Sampaio</td>\n",
       "      <td>Group A</td>\n",
       "      <td>SENEGAL</td>\n",
       "      <td>NETHERLANDS</td>\n",
       "      <td>41721</td>\n",
       "      <td>...</td>\n",
       "      <td>0</td>\n",
       "      <td>0</td>\n",
       "      <td>9</td>\n",
       "      <td>15</td>\n",
       "      <td>0</td>\n",
       "      <td>0</td>\n",
       "      <td>63</td>\n",
       "      <td>73</td>\n",
       "      <td>263</td>\n",
       "      <td>251</td>\n",
       "    </tr>\n",
       "    <tr>\n",
       "      <th>3</th>\n",
       "      <td>4</td>\n",
       "      <td>Mon</td>\n",
       "      <td>21-Nov-22</td>\n",
       "      <td>20:00</td>\n",
       "      <td>Ahmed bin Ali Stadium</td>\n",
       "      <td>Abdulrahman Ibrahim Al Jassim</td>\n",
       "      <td>Group B</td>\n",
       "      <td>UNITED STATES</td>\n",
       "      <td>WALES</td>\n",
       "      <td>43418</td>\n",
       "      <td>...</td>\n",
       "      <td>0</td>\n",
       "      <td>1</td>\n",
       "      <td>7</td>\n",
       "      <td>7</td>\n",
       "      <td>0</td>\n",
       "      <td>0</td>\n",
       "      <td>81</td>\n",
       "      <td>72</td>\n",
       "      <td>242</td>\n",
       "      <td>292</td>\n",
       "    </tr>\n",
       "    <tr>\n",
       "      <th>4</th>\n",
       "      <td>5</td>\n",
       "      <td>Tue</td>\n",
       "      <td>22-Nov-22</td>\n",
       "      <td>11:00</td>\n",
       "      <td>Lusail Iconic Stadium</td>\n",
       "      <td>Slavko Vincic</td>\n",
       "      <td>Group C</td>\n",
       "      <td>ARGENTINA</td>\n",
       "      <td>SAUDI ARABIA</td>\n",
       "      <td>88012</td>\n",
       "      <td>...</td>\n",
       "      <td>1</td>\n",
       "      <td>0</td>\n",
       "      <td>4</td>\n",
       "      <td>14</td>\n",
       "      <td>0</td>\n",
       "      <td>0</td>\n",
       "      <td>65</td>\n",
       "      <td>80</td>\n",
       "      <td>163</td>\n",
       "      <td>361</td>\n",
       "    </tr>\n",
       "    <tr>\n",
       "      <th>...</th>\n",
       "      <td>...</td>\n",
       "      <td>...</td>\n",
       "      <td>...</td>\n",
       "      <td>...</td>\n",
       "      <td>...</td>\n",
       "      <td>...</td>\n",
       "      <td>...</td>\n",
       "      <td>...</td>\n",
       "      <td>...</td>\n",
       "      <td>...</td>\n",
       "      <td>...</td>\n",
       "      <td>...</td>\n",
       "      <td>...</td>\n",
       "      <td>...</td>\n",
       "      <td>...</td>\n",
       "      <td>...</td>\n",
       "      <td>...</td>\n",
       "      <td>...</td>\n",
       "      <td>...</td>\n",
       "      <td>...</td>\n",
       "      <td>...</td>\n",
       "    </tr>\n",
       "    <tr>\n",
       "      <th>59</th>\n",
       "      <td>60</td>\n",
       "      <td>Sat</td>\n",
       "      <td>10-Dec-22</td>\n",
       "      <td>20:00</td>\n",
       "      <td>Al Bayt Stadium</td>\n",
       "      <td>Wilton Sampaio</td>\n",
       "      <td>Quarter-final</td>\n",
       "      <td>ENGLAND</td>\n",
       "      <td>FRANCE</td>\n",
       "      <td>68895</td>\n",
       "      <td>...</td>\n",
       "      <td>1</td>\n",
       "      <td>0</td>\n",
       "      <td>9</td>\n",
       "      <td>15</td>\n",
       "      <td>0</td>\n",
       "      <td>0</td>\n",
       "      <td>49</td>\n",
       "      <td>54</td>\n",
       "      <td>193</td>\n",
       "      <td>308</td>\n",
       "    </tr>\n",
       "    <tr>\n",
       "      <th>60</th>\n",
       "      <td>61</td>\n",
       "      <td>Tue</td>\n",
       "      <td>13-Dec-22</td>\n",
       "      <td>20:00</td>\n",
       "      <td>Lusail Iconic Stadium</td>\n",
       "      <td>Daniele Orsato</td>\n",
       "      <td>Semi-Final</td>\n",
       "      <td>ARGENTINA</td>\n",
       "      <td>CROATIA</td>\n",
       "      <td>88966</td>\n",
       "      <td>...</td>\n",
       "      <td>1</td>\n",
       "      <td>0</td>\n",
       "      <td>12</td>\n",
       "      <td>10</td>\n",
       "      <td>0</td>\n",
       "      <td>0</td>\n",
       "      <td>85</td>\n",
       "      <td>63</td>\n",
       "      <td>321</td>\n",
       "      <td>260</td>\n",
       "    </tr>\n",
       "    <tr>\n",
       "      <th>61</th>\n",
       "      <td>62</td>\n",
       "      <td>Wed</td>\n",
       "      <td>14-Dec-22</td>\n",
       "      <td>20:00</td>\n",
       "      <td>Al Bayt Stadium</td>\n",
       "      <td>Cesar Ramos</td>\n",
       "      <td>Semi-Final</td>\n",
       "      <td>FRANCE</td>\n",
       "      <td>MOROCCO</td>\n",
       "      <td>68294</td>\n",
       "      <td>...</td>\n",
       "      <td>0</td>\n",
       "      <td>0</td>\n",
       "      <td>13</td>\n",
       "      <td>14</td>\n",
       "      <td>0</td>\n",
       "      <td>0</td>\n",
       "      <td>72</td>\n",
       "      <td>47</td>\n",
       "      <td>328</td>\n",
       "      <td>218</td>\n",
       "    </tr>\n",
       "    <tr>\n",
       "      <th>62</th>\n",
       "      <td>63</td>\n",
       "      <td>Sat</td>\n",
       "      <td>17-Dec-22</td>\n",
       "      <td>16:00</td>\n",
       "      <td>Khalifa International Stadium</td>\n",
       "      <td>Abdulrahman Ibrahim Al Jassim</td>\n",
       "      <td>Play-off for third place</td>\n",
       "      <td>CROATIA</td>\n",
       "      <td>MOROCCO</td>\n",
       "      <td>44137</td>\n",
       "      <td>...</td>\n",
       "      <td>0</td>\n",
       "      <td>0</td>\n",
       "      <td>7</td>\n",
       "      <td>14</td>\n",
       "      <td>0</td>\n",
       "      <td>0</td>\n",
       "      <td>75</td>\n",
       "      <td>72</td>\n",
       "      <td>288</td>\n",
       "      <td>277</td>\n",
       "    </tr>\n",
       "    <tr>\n",
       "      <th>63</th>\n",
       "      <td>64</td>\n",
       "      <td>Sun</td>\n",
       "      <td>18-Dec-22</td>\n",
       "      <td>16:00</td>\n",
       "      <td>Lusail Iconic Stadium</td>\n",
       "      <td>Szymon Marciniak</td>\n",
       "      <td>Final</td>\n",
       "      <td>ARGENTINA</td>\n",
       "      <td>FRANCE</td>\n",
       "      <td>88966</td>\n",
       "      <td>...</td>\n",
       "      <td>1</td>\n",
       "      <td>2</td>\n",
       "      <td>11</td>\n",
       "      <td>21</td>\n",
       "      <td>0</td>\n",
       "      <td>0</td>\n",
       "      <td>87</td>\n",
       "      <td>104</td>\n",
       "      <td>280</td>\n",
       "      <td>409</td>\n",
       "    </tr>\n",
       "  </tbody>\n",
       "</table>\n",
       "<p>64 rows × 59 columns</p>\n",
       "</div>"
      ],
      "text/plain": [
       "    match_no day_of_week       date   hour                          venue  \\\n",
       "0          1         Sun  20-Nov-22  17:00                Al Bayt Stadium   \n",
       "1          2         Mon  21-Nov-22  14:00  Khalifa International Stadium   \n",
       "2          3         Mon  21-Nov-22  17:00             Al Thumama Stadium   \n",
       "3          4         Mon  21-Nov-22  20:00          Ahmed bin Ali Stadium   \n",
       "4          5         Tue  22-Nov-22  11:00          Lusail Iconic Stadium   \n",
       "..       ...         ...        ...    ...                            ...   \n",
       "59        60         Sat  10-Dec-22  20:00                Al Bayt Stadium   \n",
       "60        61         Tue  13-Dec-22  20:00          Lusail Iconic Stadium   \n",
       "61        62         Wed  14-Dec-22  20:00                Al Bayt Stadium   \n",
       "62        63         Sat  17-Dec-22  16:00  Khalifa International Stadium   \n",
       "63        64         Sun  18-Dec-22  16:00          Lusail Iconic Stadium   \n",
       "\n",
       "                          referee                     group              1  \\\n",
       "0                  Daniele Orsato                   Group A          QATAR   \n",
       "1                   Raphael Claus                   Group B        ENGLAND   \n",
       "2                  Wilton Sampaio                   Group A        SENEGAL   \n",
       "3   Abdulrahman Ibrahim Al Jassim                   Group B  UNITED STATES   \n",
       "4                   Slavko Vincic                   Group C      ARGENTINA   \n",
       "..                            ...                       ...            ...   \n",
       "59                 Wilton Sampaio             Quarter-final        ENGLAND   \n",
       "60                 Daniele Orsato                Semi-Final      ARGENTINA   \n",
       "61                    Cesar Ramos                Semi-Final         FRANCE   \n",
       "62  Abdulrahman Ibrahim Al Jassim  Play-off for third place        CROATIA   \n",
       "63               Szymon Marciniak                     Final      ARGENTINA   \n",
       "\n",
       "               2  attendance  ...  1_panelties_scored  2_panelties_scored  \\\n",
       "0        ECUADOR       67372  ...                   0                   1   \n",
       "1           IRAN       45334  ...                   0                   1   \n",
       "2    NETHERLANDS       41721  ...                   0                   0   \n",
       "3          WALES       43418  ...                   0                   1   \n",
       "4   SAUDI ARABIA       88012  ...                   1                   0   \n",
       "..           ...         ...  ...                 ...                 ...   \n",
       "59        FRANCE       68895  ...                   1                   0   \n",
       "60       CROATIA       88966  ...                   1                   0   \n",
       "61       MOROCCO       68294  ...                   0                   0   \n",
       "62       MOROCCO       44137  ...                   0                   0   \n",
       "63        FRANCE       88966  ...                   1                   2   \n",
       "\n",
       "    1_goal_prevented  2_goal_prevented  1_own_goal  2_own_goal  \\\n",
       "0                  6                 5           0           0   \n",
       "1                  8                13           0           0   \n",
       "2                  9                15           0           0   \n",
       "3                  7                 7           0           0   \n",
       "4                  4                14           0           0   \n",
       "..               ...               ...         ...         ...   \n",
       "59                 9                15           0           0   \n",
       "60                12                10           0           0   \n",
       "61                13                14           0           0   \n",
       "62                 7                14           0           0   \n",
       "63                11                21           0           0   \n",
       "\n",
       "   1_forced_turnovers  2_forced_turnovers  1_defensive_pressure_applied  \\\n",
       "0                  52                  72                           256   \n",
       "1                  63                  72                           139   \n",
       "2                  63                  73                           263   \n",
       "3                  81                  72                           242   \n",
       "4                  65                  80                           163   \n",
       "..                ...                 ...                           ...   \n",
       "59                 49                  54                           193   \n",
       "60                 85                  63                           321   \n",
       "61                 72                  47                           328   \n",
       "62                 75                  72                           288   \n",
       "63                 87                 104                           280   \n",
       "\n",
       "    2_defensive_pressure_applied  \n",
       "0                            279  \n",
       "1                            416  \n",
       "2                            251  \n",
       "3                            292  \n",
       "4                            361  \n",
       "..                           ...  \n",
       "59                           308  \n",
       "60                           260  \n",
       "61                           218  \n",
       "62                           277  \n",
       "63                           409  \n",
       "\n",
       "[64 rows x 59 columns]"
      ]
     },
     "execution_count": 4,
     "metadata": {},
     "output_type": "execute_result"
    }
   ],
   "source": [
    "archivo = \"https://raw.githubusercontent.com/IgnacioPardo/Tecnologias_Exponenciales_2025/refs/heads/main/qatar.csv\"\n",
    "\n",
    "# Leer datos del archivo\n",
    "mundial : pd.DataFrame = pd.read_csv(archivo)\n",
    "mundial"
   ]
  },
  {
   "cell_type": "code",
   "execution_count": 5,
   "metadata": {},
   "outputs": [
    {
     "name": "stdout",
     "output_type": "stream",
     "text": [
      "se Jugaron 64  partidos\n"
     ]
    }
   ],
   "source": [
    "# Cuantos partidos se jugaron?\n",
    "# Completar\n",
    "cantidad_partidos = len(mundial) #Devuelve el numero de filas de DataFrame (Nro Paridos en archivo).\n",
    "                                     #len devuleve el numero de filas\n",
    "print (f\"se Jugaron {cantidad_partidos}  partidos\")"
   ]
  },
  {
   "cell_type": "code",
   "execution_count": 6,
   "metadata": {},
   "outputs": [
    {
     "name": "stdout",
     "output_type": "stream",
     "text": [
      "<class 'pandas.core.frame.DataFrame'>\n",
      "RangeIndex: 64 entries, 0 to 63\n",
      "Data columns (total 59 columns):\n",
      " #   Column                           Non-Null Count  Dtype  \n",
      "---  ------                           --------------  -----  \n",
      " 0   match_no                         64 non-null     int64  \n",
      " 1   day_of_week                      64 non-null     object \n",
      " 2   date                             64 non-null     object \n",
      " 3   hour                             64 non-null     object \n",
      " 4   venue                            64 non-null     object \n",
      " 5   referee                          64 non-null     object \n",
      " 6   group                            64 non-null     object \n",
      " 7   1                                64 non-null     object \n",
      " 8   2                                64 non-null     object \n",
      " 9   attendance                       64 non-null     int64  \n",
      " 10  1_xg                             64 non-null     float64\n",
      " 11  2_xg                             64 non-null     float64\n",
      " 12  1_poss                           64 non-null     int64  \n",
      " 13  2_poss                           64 non-null     int64  \n",
      " 14  1_goals                          64 non-null     int64  \n",
      " 15  2_goals                          64 non-null     int64  \n",
      " 16  score                            64 non-null     object \n",
      " 17  1_attempts                       64 non-null     int64  \n",
      " 18  2_attempts                       64 non-null     int64  \n",
      " 19  1_conceded                       64 non-null     int64  \n",
      " 20  2_conceded                       64 non-null     int64  \n",
      " 21  1_goal_inside_penalty_area       64 non-null     int64  \n",
      " 22  2_goal_inside_penalty_area       64 non-null     int64  \n",
      " 23  1_goal_outside_penalty_area      64 non-null     int64  \n",
      " 24  2_goal_outside_penalty_area      64 non-null     int64  \n",
      " 25  1_ontarget                       64 non-null     int64  \n",
      " 26  2_ontarget                       64 non-null     int64  \n",
      " 27  1_offtarget                      64 non-null     int64  \n",
      " 28  2_offtarget                      64 non-null     int64  \n",
      " 29  1_attempts_inside_penalty_area   64 non-null     int64  \n",
      " 30  2_attempts_inside_penalty_area   64 non-null     int64  \n",
      " 31  1_attempts_outside_penalty_area  64 non-null     int64  \n",
      " 32  2_attempts_outside_penalty_area  64 non-null     int64  \n",
      " 33  1_yellow_cards                   64 non-null     int64  \n",
      " 34  2_yellow_cards                   64 non-null     int64  \n",
      " 35  1_red_cards                      64 non-null     int64  \n",
      " 36  2_red_cards                      64 non-null     int64  \n",
      " 37  faul_against_1                   64 non-null     int64  \n",
      " 38  faul_against_2                   64 non-null     int64  \n",
      " 39  1_offsides                       64 non-null     int64  \n",
      " 40  2_offsides                       64 non-null     int64  \n",
      " 41  1_passes                         64 non-null     int64  \n",
      " 42  2_passes                         64 non-null     int64  \n",
      " 43  1_passes_compeletd               64 non-null     int64  \n",
      " 44  2_passes_compeletd               64 non-null     int64  \n",
      " 45  1_corners                        64 non-null     int64  \n",
      " 46  2_corners                        64 non-null     int64  \n",
      " 47  1_free_kicks                     64 non-null     int64  \n",
      " 48  2_free_kicks                     64 non-null     int64  \n",
      " 49  1_panelties_scored               64 non-null     int64  \n",
      " 50  2_panelties_scored               64 non-null     int64  \n",
      " 51  1_goal_prevented                 64 non-null     int64  \n",
      " 52  2_goal_prevented                 64 non-null     int64  \n",
      " 53  1_own_goal                       64 non-null     int64  \n",
      " 54  2_own_goal                       64 non-null     int64  \n",
      " 55  1_forced_turnovers               64 non-null     int64  \n",
      " 56  2_forced_turnovers               64 non-null     int64  \n",
      " 57  1_defensive_pressure_applied     64 non-null     int64  \n",
      " 58  2_defensive_pressure_applied     64 non-null     int64  \n",
      "dtypes: float64(2), int64(48), object(9)\n",
      "memory usage: 29.6+ KB\n"
     ]
    }
   ],
   "source": [
    "# Que datos tiene el dataset? (Pista: usar .info(), .describe(), .columns, .head())\n",
    "# Checkear columnas\n",
    "# Completar\n",
    "\n",
    "mundial.info()"
   ]
  },
  {
   "cell_type": "markdown",
   "metadata": {},
   "source": [
    "## Analisis"
   ]
  },
  {
   "cell_type": "markdown",
   "metadata": {},
   "source": [
    "### Primera Parte"
   ]
  },
  {
   "cell_type": "code",
   "execution_count": 12,
   "metadata": {},
   "outputs": [
    {
     "data": {
      "text/plain": [
       "32"
      ]
     },
     "execution_count": 12,
     "metadata": {},
     "output_type": "execute_result"
    }
   ],
   "source": [
    "# Cuantas selecciones participaron?\n",
    "# Completar\n",
    "pd.concat([\n",
    "    mundial[\"1\"],\n",
    "    mundial[\"2\"]]).nunique()"
   ]
  },
  {
   "cell_type": "code",
   "execution_count": 9,
   "metadata": {},
   "outputs": [
    {
     "data": {
      "text/plain": [
       "6"
      ]
     },
     "execution_count": 9,
     "metadata": {},
     "output_type": "execute_result"
    }
   ],
   "source": [
    "# Cuantas fases tiene el mundial?\n",
    "# Completar\n",
    "mundial[\"group\"].unique()\n",
    "#mundial[\"is_group_phase\"] = mundial[\"group\"].apply(lambda x: \"Group\" in x) #lambda es una funcion que no ocupa memoria\n",
    "def isGroup (phase_name):\n",
    "    return \"Group\" in phase_name\n",
    "mundial[\"is_group_phase\"] = mundial[\"group\"].apply(isGroup)\n",
    "mundial[\"group\"][~mundial[\"is_group_phase\"]].nunique() + 1"
   ]
  },
  {
   "cell_type": "code",
   "execution_count": 11,
   "metadata": {},
   "outputs": [
    {
     "data": {
      "text/plain": [
       "np.float64(53191.4375)"
      ]
     },
     "execution_count": 11,
     "metadata": {},
     "output_type": "execute_result"
    }
   ],
   "source": [
    "# Cual fue la \"attendance\" promedio por partido?\n",
    "# Completar\n",
    "mundial[\"attendance\"].mean() # mean es promedio"
   ]
  },
  {
   "cell_type": "code",
   "execution_count": 22,
   "metadata": {},
   "outputs": [
    {
     "name": "stdout",
     "output_type": "stream",
     "text": [
      "11\n"
     ]
    }
   ],
   "source": [
    "# Cual fue el partido con mas diferencia de goles?\n",
    "# Completar\n",
    "\n",
    "\n",
    "# Crear la columna 'goal_difference' calculando la diferencia absoluta de goles\n",
    "mundial[\"goal_difference\"] = abs(mundial[\"1_goals\"] - mundial[\"2_goals\"])\n",
    "\n",
    "# Encontrar el partido con la mayor diferencia de goles\n",
    "partido_max_diferencia = mundial[mundial[\"goal_difference\"] == mundial[\"goal_difference\"].max()][\"match_no\"].values[0]\n",
    "\n",
    "# Mostrar el resultado\n",
    "print(partido_max_diferencia)\n"
   ]
  },
  {
   "cell_type": "code",
   "execution_count": null,
   "metadata": {},
   "outputs": [
    {
     "name": "stdout",
     "output_type": "stream",
     "text": [
      "La selección que más penales metió es ARGENTINA con 4 penales.\n"
     ]
    }
   ],
   "source": [
    "# Cual es la selección que más penales metió?\n",
    "# Completar\n",
    "\n",
    "# Crear un DataFrame con las selecciones y los penales anotados\n",
    "penales = pd.concat([\n",
    "    mundial[[\"1\", \"1_panelties_scored\"]].rename(columns={\"1\": \"seleccion\", \"1_panelties_scored\": \"penales_anotados\"}),\n",
    "    mundial[[\"2\", \"2_panelties_scored\"]].rename(columns={\"2\": \"seleccion\", \"2_panelties_scored\": \"penales_anotados\"})\n",
    "])\n",
    "\n",
    "# Agrupar por selección y sumar los penales anotados\n",
    "penales_totales = penales.groupby(\"seleccion\")[\"penales_anotados\"].sum()\n",
    "\n",
    "# Encontrar la selección que más penales anotó\n",
    "seleccion_max_penales = penales_totales.idxmax()  #idxmax devuelve el indice del maximo valor.\n",
    "penales_maximos = penales_totales.max()  # Cantidad máxima de penales\n",
    "\n",
    "# Mostrar el resultado\n",
    "print(f\"La selección que más penales metió es {seleccion_max_penales} con {penales_maximos} penales.\")"
   ]
  },
  {
   "cell_type": "code",
   "execution_count": 29,
   "metadata": {},
   "outputs": [
    {
     "name": "stdout",
     "output_type": "stream",
     "text": [
      "La selección que más penales le hicieron es FRANCE con 3 penales.\n"
     ]
    }
   ],
   "source": [
    "# Cual es la selección que mas penales le hicieron?\n",
    "# Completar\n",
    "\n",
    "# Crear un DataFrame con las selecciones y los penales recibidos\n",
    "penales_recibidos = pd.concat([\n",
    "    mundial[[\"2\", \"1_panelties_scored\"]].rename(columns={\"2\": \"seleccion\", \"1_panelties_scored\": \"penales_recibidos\"}),\n",
    "    mundial[[\"1\", \"2_panelties_scored\"]].rename(columns={\"1\": \"seleccion\", \"2_panelties_scored\": \"penales_recibidos\"})\n",
    "])\n",
    "\n",
    "# Agrupar por selección y sumar los penales recibidos\n",
    "penales_recibidos_totales = penales_recibidos.groupby(\"seleccion\")[\"penales_recibidos\"].sum()\n",
    "\n",
    "# Encontrar la selección que más penales recibió\n",
    "seleccion_max_penales_recibidos = penales_recibidos_totales.idxmax()  # Selección con más penales recibidos\n",
    "penales_maximos_recibidos = penales_recibidos_totales.max()  # Cantidad máxima de penales recibidos\n",
    "\n",
    "# Mostrar el resultado\n",
    "print(f\"La selección que más penales le hicieron es {seleccion_max_penales_recibidos} con {penales_maximos_recibidos} penales.\")"
   ]
  },
  {
   "cell_type": "markdown",
   "metadata": {},
   "source": [
    "### Segunda Parte"
   ]
  },
  {
   "cell_type": "code",
   "execution_count": 34,
   "metadata": {},
   "outputs": [],
   "source": [
    "equipo : str = \"ARGENTINA\""
   ]
  },
  {
   "cell_type": "code",
   "execution_count": 35,
   "metadata": {},
   "outputs": [
    {
     "name": "stdout",
     "output_type": "stream",
     "text": [
      "    match_no day_of_week       date   hour                  venue  \\\n",
      "4          5         Tue  22-Nov-22  11:00  Lusail Iconic Stadium   \n",
      "23        24         Sat  26-Nov-22  20:00  Lusail Iconic Stadium   \n",
      "49        50         Sat   3-Dec-22  20:00  Ahmed bin Ali Stadium   \n",
      "60        61         Tue  13-Dec-22  20:00  Lusail Iconic Stadium   \n",
      "63        64         Sun  18-Dec-22  16:00  Lusail Iconic Stadium   \n",
      "\n",
      "             referee        group          1             2  attendance  ...  \\\n",
      "4      Slavko Vincic      Group C  ARGENTINA  SAUDI ARABIA       88012  ...   \n",
      "23    Daniele Orsato      Group C  ARGENTINA        MEXICO       88966  ...   \n",
      "49  Szymon Marciniak  Round of 16  ARGENTINA     AUSTRALIA       45032  ...   \n",
      "60    Daniele Orsato   Semi-Final  ARGENTINA       CROATIA       88966  ...   \n",
      "63  Szymon Marciniak        Final  ARGENTINA        FRANCE       88966  ...   \n",
      "\n",
      "    1_goal_prevented  2_goal_prevented  1_own_goal  2_own_goal  \\\n",
      "4                  4                14           0           0   \n",
      "23                 4                 5           0           0   \n",
      "49                 5                14           1           0   \n",
      "60                12                10           0           0   \n",
      "63                11                21           0           0   \n",
      "\n",
      "    1_forced_turnovers  2_forced_turnovers 1_defensive_pressure_applied  \\\n",
      "4                   65                  80                          163   \n",
      "23                  63                  79                          220   \n",
      "49                  67                  73                          240   \n",
      "60                  85                  63                          321   \n",
      "63                  87                 104                          280   \n",
      "\n",
      "    2_defensive_pressure_applied  is_group_phase  goal_difference  \n",
      "4                            361            True                1  \n",
      "23                           327            True                2  \n",
      "49                           453           False                1  \n",
      "60                           260           False                3  \n",
      "63                           409           False                0  \n",
      "\n",
      "[5 rows x 61 columns]\n"
     ]
    }
   ],
   "source": [
    "# Seleccionar todos los partidos que jugo el equipo de \"local\"\n",
    "# Completar\n",
    "\n",
    "# Filtrar los partidos donde el equipo jugó como local\n",
    "filtroLocal: pd.DataFrame = mundial[mundial[\"1\"] == equipo]\n",
    "\n",
    "# Mostrar los partidos filtrados\n",
    "print(filtroLocal)"
   ]
  },
  {
   "cell_type": "code",
   "execution_count": 36,
   "metadata": {},
   "outputs": [
    {
     "name": "stdout",
     "output_type": "stream",
     "text": [
      "    match_no day_of_week       date   hour                  venue  \\\n",
      "38        39         Wed  30-Nov-22  20:00  Lusail Iconic Stadium   \n",
      "57        58         Fri   9-Dec-22  20:00  Lusail Iconic Stadium   \n",
      "\n",
      "                referee          group            1          2  attendance  \\\n",
      "38       Michael Oliver        Group C       POLAND  ARGENTINA       84985   \n",
      "57  Antonio Mateu Lahoz  Quarter-final  NETHERLANDS  ARGENTINA       88235   \n",
      "\n",
      "    ...  1_goal_prevented  2_goal_prevented  1_own_goal  2_own_goal  \\\n",
      "38  ...                25                 4           0           0   \n",
      "57  ...                15                 5           0           0   \n",
      "\n",
      "    1_forced_turnovers  2_forced_turnovers 1_defensive_pressure_applied  \\\n",
      "38                  67                  48                          438   \n",
      "57                  91                  79                          401   \n",
      "\n",
      "    2_defensive_pressure_applied  is_group_phase  goal_difference  \n",
      "38                           141            True                2  \n",
      "57                           323           False                0  \n",
      "\n",
      "[2 rows x 61 columns]\n"
     ]
    }
   ],
   "source": [
    "# Seleccionar todos los partidos que jugo el equipo de \"visitante\"\n",
    "# Completar\n",
    "\n",
    "# Filtrar los partidos donde el equipo jugó como visitante\n",
    "filtroVisitante: pd.DataFrame = mundial[mundial[\"2\"] == equipo]\n",
    "\n",
    "# Mostrar los partidos filtrados\n",
    "print(filtroVisitante)"
   ]
  },
  {
   "cell_type": "code",
   "execution_count": 37,
   "metadata": {},
   "outputs": [
    {
     "name": "stdout",
     "output_type": "stream",
     "text": [
      "    match_no day_of_week       date   hour                  venue  \\\n",
      "4          5         Tue  22-Nov-22  11:00  Lusail Iconic Stadium   \n",
      "23        24         Sat  26-Nov-22  20:00  Lusail Iconic Stadium   \n",
      "38        39         Wed  30-Nov-22  20:00  Lusail Iconic Stadium   \n",
      "49        50         Sat   3-Dec-22  20:00  Ahmed bin Ali Stadium   \n",
      "57        58         Fri   9-Dec-22  20:00  Lusail Iconic Stadium   \n",
      "60        61         Tue  13-Dec-22  20:00  Lusail Iconic Stadium   \n",
      "63        64         Sun  18-Dec-22  16:00  Lusail Iconic Stadium   \n",
      "\n",
      "                referee          group            1             2  attendance  \\\n",
      "4         Slavko Vincic        Group C    ARGENTINA  SAUDI ARABIA       88012   \n",
      "23       Daniele Orsato        Group C    ARGENTINA        MEXICO       88966   \n",
      "38       Michael Oliver        Group C       POLAND     ARGENTINA       84985   \n",
      "49     Szymon Marciniak    Round of 16    ARGENTINA     AUSTRALIA       45032   \n",
      "57  Antonio Mateu Lahoz  Quarter-final  NETHERLANDS     ARGENTINA       88235   \n",
      "60       Daniele Orsato     Semi-Final    ARGENTINA       CROATIA       88966   \n",
      "63     Szymon Marciniak          Final    ARGENTINA        FRANCE       88966   \n",
      "\n",
      "    ...  1_goal_prevented  2_goal_prevented  1_own_goal  2_own_goal  \\\n",
      "4   ...                 4                14           0           0   \n",
      "23  ...                 4                 5           0           0   \n",
      "38  ...                25                 4           0           0   \n",
      "49  ...                 5                14           1           0   \n",
      "57  ...                15                 5           0           0   \n",
      "60  ...                12                10           0           0   \n",
      "63  ...                11                21           0           0   \n",
      "\n",
      "    1_forced_turnovers  2_forced_turnovers 1_defensive_pressure_applied  \\\n",
      "4                   65                  80                          163   \n",
      "23                  63                  79                          220   \n",
      "38                  67                  48                          438   \n",
      "49                  67                  73                          240   \n",
      "57                  91                  79                          401   \n",
      "60                  85                  63                          321   \n",
      "63                  87                 104                          280   \n",
      "\n",
      "    2_defensive_pressure_applied  is_group_phase  goal_difference  \n",
      "4                            361            True                1  \n",
      "23                           327            True                2  \n",
      "38                           141            True                2  \n",
      "49                           453           False                1  \n",
      "57                           323           False                0  \n",
      "60                           260           False                3  \n",
      "63                           409           False                0  \n",
      "\n",
      "[7 rows x 61 columns]\n"
     ]
    }
   ],
   "source": [
    "# Seleccionar todos los partidos que jugo el equipo (de \"local\" o \"visitante\")\n",
    "# Completar\n",
    "\n",
    "# Filtrar los partidos donde el equipo jugó como local o visitante\n",
    "partidos: pd.DataFrame = mundial[(mundial[\"1\"] == equipo) | (mundial[\"2\"] == equipo)]\n",
    "\n",
    "# Mostrar los partidos filtrados\n",
    "print(partidos)\n"
   ]
  },
  {
   "cell_type": "code",
   "execution_count": 38,
   "metadata": {},
   "outputs": [
    {
     "name": "stdout",
     "output_type": "stream",
     "text": [
      "15\n"
     ]
    }
   ],
   "source": [
    "# Cuantos goles hizo el equipo en total (obtener los goles metidos de local y sumarlos con los goles metidos de visitante)\n",
    "# Completar\n",
    "\n",
    "# Goles como local\n",
    "goles_local = mundial[mundial[\"1\"] == equipo][\"1_goals\"].sum()\n",
    "\n",
    "# Goles como visitante\n",
    "goles_visitante = mundial[mundial[\"2\"] == equipo][\"2_goals\"].sum()\n",
    "\n",
    "# Total de goles\n",
    "goles: int = goles_local + goles_visitante\n",
    "print(goles)"
   ]
  },
  {
   "cell_type": "code",
   "execution_count": 39,
   "metadata": {},
   "outputs": [
    {
     "name": "stdout",
     "output_type": "stream",
     "text": [
      "2.142857142857143\n"
     ]
    }
   ],
   "source": [
    "# Cuantos goles hizo el equipo en promedio\n",
    "# Completar\n",
    "# Goles como local\n",
    "goles_local = mundial[mundial[\"1\"] == equipo][\"1_goals\"].sum()\n",
    "\n",
    "# Goles como visitante\n",
    "goles_visitante = mundial[mundial[\"2\"] == equipo][\"2_goals\"].sum()\n",
    "\n",
    "# Total de goles\n",
    "goles: int = goles_local + goles_visitante\n",
    "\n",
    "#Total partidos jugados\n",
    "partidos_jugados = len(mundial[(mundial[\"1\"] == equipo) | (mundial[\"2\"] == equipo)])\n",
    "\n",
    "# Promedio de goles\n",
    "promedio_goles: float = goles / partidos_jugados if partidos_jugados > 0 else 0\n",
    "\n",
    "print(promedio_goles)\n",
    "\n"
   ]
  },
  {
   "cell_type": "code",
   "execution_count": 43,
   "metadata": {},
   "outputs": [
    {
     "name": "stdout",
     "output_type": "stream",
     "text": [
      "4\n"
     ]
    }
   ],
   "source": [
    "# Cuantos partidos gano el equipo\n",
    "# Completar\n",
    "\n",
    "# Verificar los partidos ganados como local\n",
    "ganados_local = mundial[(mundial[\"1\"] == equipo) & (mundial[\"1_goals\"] > mundial[\"2_goals\"])]\n",
    "\n",
    "# Verificar los partidos ganados como visitante\n",
    "ganados_visitante = mundial[(mundial[\"2\"] == equipo) & (mundial[\"2_goals\"] > mundial[\"1_goals\"])]\n",
    "\n",
    "# Total de partidos ganados\n",
    "ganados_total = len(ganados_local) + len(ganados_visitante)\n",
    "\n",
    "print(ganados_total)"
   ]
  },
  {
   "cell_type": "code",
   "execution_count": null,
   "metadata": {},
   "outputs": [
    {
     "name": "stderr",
     "output_type": "stream",
     "text": [
      "C:\\Users\\SABETA\\AppData\\Local\\Temp\\ipykernel_6536\\1034847112.py:7: SettingWithCopyWarning: \n",
      "A value is trying to be set on a copy of a slice from a DataFrame.\n",
      "Try using .loc[row_indexer,col_indexer] = value instead\n",
      "\n",
      "See the caveats in the documentation: https://pandas.pydata.org/pandas-docs/stable/user_guide/indexing.html#returning-a-view-versus-a-copy\n",
      "  partidos[\"goles_hechos\"] = partidos.apply(\n"
     ]
    },
    {
     "data": {
      "image/png": "[encoded data removed]",
      "text/plain": [
       "<Figure size 1000x600 with 1 Axes>"
      ]
     },
     "metadata": {},
     "output_type": "display_data"
    }
   ],
   "source": [
    "# Graficar los goles hechos por el equipo en cada partido\n",
    "\n",
    "# Filtrar los partidos donde el equipo jugó como local o visitante\n",
    "partidos = mundial[(mundial[\"1\"] == equipo) | (mundial[\"2\"] == equipo)]\n",
    "\n",
    "# Crear una columna con los goles hechos por el equipo en cada partido\n",
    "partidos[\"goles_hechos\"] = partidos.apply(\n",
    "    lambda row: row[\"1_goals\"] if row[\"1\"] == equipo else row[\"2_goals\"], axis=1 #axis se refiere a la dimensión sobre la que se realiza una operación.\n",
    ")\n",
    "\n",
    "# Crear el gráfico\n",
    "fig, ax = plt.subplots(figsize=(10, 6))\n",
    "ax.bar(partidos.index, partidos[\"goles_hechos\"], color=\"skyblue\")\n",
    "\n",
    "# Configurar el gráfico\n",
    "ax.set_title(f\"Goles hechos por {equipo} en cada partido\", fontsize=14)\n",
    "ax.set_xlabel(\"Partido (índice)\", fontsize=12)\n",
    "ax.set_ylabel(\"Goles hechos\", fontsize=12)\n",
    "ax.grid(axis=\"y\", linestyle=\"--\", alpha=0.7)\n",
    "\n",
    "# Mostrar el gráfico\n",
    "plt.show()"
   ]
  },
  {
   "cell_type": "markdown",
   "metadata": {},
   "source": [
    "### Tercera Parte"
   ]
  },
  {
   "cell_type": "code",
   "execution_count": 31,
   "metadata": {},
   "outputs": [
    {
     "data": {
      "text/plain": [
       "1\n",
       "ARGENTINA         15\n",
       "AUSTRALIA          4\n",
       "BELGIUM            1\n",
       "BRAZIL             8\n",
       "CAMEROON           4\n",
       "CANADA             2\n",
       "COSTA RICA         3\n",
       "CROATIA            8\n",
       "DENMARK            1\n",
       "ECUADOR            4\n",
       "ENGLAND           13\n",
       "FRANCE            16\n",
       "GERMANY            6\n",
       "GHANA              5\n",
       "IRAN               4\n",
       "JAPAN              5\n",
       "KOREA REPUBLIC     5\n",
       "MEXICO             2\n",
       "MOROCCO            6\n",
       "NETHERLANDS       10\n",
       "POLAND             3\n",
       "PORTUGAL          12\n",
       "QATAR              1\n",
       "SAUDI ARABIA       3\n",
       "SENEGAL            5\n",
       "SERBIA             5\n",
       "SPAIN              9\n",
       "SWITZERLAND        5\n",
       "TUNISIA            1\n",
       "UNITED STATES      3\n",
       "URUGUAY            2\n",
       "WALES              1\n",
       "dtype: int64"
      ]
     },
     "execution_count": 31,
     "metadata": {},
     "output_type": "execute_result"
    }
   ],
   "source": [
    "# Contar cuantos goles hizo cada equipo en total en el mundial\n",
    "# Completar\n",
    "(mundial.groupby(\"1\")[\"1_goals\"].sum() + mundial.groupby(\"2\")[\"2_goals\"].sum())"
   ]
  },
  {
   "cell_type": "code",
   "execution_count": null,
   "metadata": {},
   "outputs": [
    {
     "data": {
      "image/png": "[encoded data removed]",
      "text/plain": [
       "<Figure size 1200x800 with 1 Axes>"
      ]
     },
     "metadata": {},
     "output_type": "display_data"
    }
   ],
   "source": [
    "# Graficar los goles por equipo en todo el mundial\n",
    "\n",
    "#fig, ax = plt.subplots()\n",
    "\n",
    "'''\n",
    "GRAFICO ARG.\n",
    "partidos = mundial[(mundial[\"1\"] == equipo) | (mundial[\"2\"] == equipo)]\n",
    "\n",
    "# Crear una columna con los goles hechos por el equipo en cada partido\n",
    "partidos[\"goles_hechos\"] = partidos.apply(\n",
    "    lambda row: row[\"1_goals\"] if row[\"1\"] == equipo else row[\"2_goals\"], axis=1 #axis se refiere a la dimensión sobre la que se realiza una operación.\n",
    ")\n",
    "# Crear el gráfico\n",
    "fig, ax = plt.subplots(figsize=(10, 6))\n",
    "ax.bar(partidos.index, partidos[\"goles_hechos\"], color=\"skyblue\")\n",
    "\n",
    "# Configurar el gráfico\n",
    "ax.set_title(f\"Goles hechos por {equipo} en cada partido\", fontsize=14)\n",
    "ax.set_xlabel(\"Partido (índice)\", fontsize=12)\n",
    "ax.set_ylabel(\"Goles hechos\", fontsize=12)\n",
    "ax.grid(axis=\"y\", linestyle=\"--\", alpha=0.7)\n",
    "\n",
    "# Mostrar el gráfico\n",
    "plt.show()\n",
    "'''\n",
    "\n",
    "#(mundial.groupby(\"1\")[\"1_goals\"].sum() + mundial.groupby(\"2\")[\"2_goals\"].sum())\n",
    "# Completar\n",
    "\n",
    "archivo = \"https://raw.githubusercontent.com/IgnacioPardo/Tecnologias_Exponenciales_2025/refs/heads/main/qatar.csv\"\n",
    "\n",
    "# Leer datos del archivo\n",
    "mundial = pd.read_csv(archivo)\n",
    "\n",
    "# Agrupar los goles por equipo sumando los goles hechos como local y visitante\n",
    "goles_por_equipo = mundial.groupby(\"1\")[\"1_goals\"].sum() + mundial.groupby(\"2\")[\"2_goals\"].sum()\n",
    "\n",
    "# Ordenar los equipos por la cantidad de goles\n",
    "goles_por_equipo = goles_por_equipo.sort_values(ascending=False) # sort_values es para ordenar los equipos según la cantidad de goles anotados, de mayor a menor.\n",
    "\n",
    "# Crear el gráfico\n",
    "fig, ax = plt.subplots(figsize=(12, 8))\n",
    "ax.bar(goles_por_equipo.index, goles_por_equipo.values, color=\"skyblue\")\n",
    "\n",
    "# Configurar el gráfico\n",
    "ax.set_title(\"Goles por equipo en el Mundial Qatar 2022\", fontsize=16)\n",
    "ax.set_xlabel(\"Equipos\", fontsize=12)\n",
    "ax.set_ylabel(\"Cantidad de goles\", fontsize=12)\n",
    "ax.tick_params(axis=\"x\", rotation=90)  # Rotar las etiquetas del eje X para mejor visibilidad\n",
    "ax.grid(axis=\"y\", linestyle=\"--\", alpha=0.7)\n",
    "\n",
    "# Mostrar el gráfico\n",
    "plt.tight_layout()  # Ajustar el diseño para evitar solapamientos\n",
    "plt.show()\n",
    "\n"
   ]
  },
  {
   "cell_type": "code",
   "execution_count": null,
   "metadata": {},
   "outputs": [],
   "source": [
    "# Cual es el equipo que hizo mas goles en el mundial?\n",
    "# Completar\n",
    "\n"
   ]
  },
  {
   "cell_type": "code",
   "execution_count": null,
   "metadata": {},
   "outputs": [],
   "source": [
    "# Por cada partido, cual fue la diferencia de goles?\n",
    "# Completar"
   ]
  },
  {
   "cell_type": "code",
   "execution_count": null,
   "metadata": {},
   "outputs": [],
   "source": [
    "# Por cada partido, cual fue el equipo que gano?\n",
    "# Completar"
   ]
  },
  {
   "cell_type": "code",
   "execution_count": null,
   "metadata": {},
   "outputs": [],
   "source": [
    "# En cada fase del mundial, cual fue el equipo que hizo mas goles?\n",
    "# Completar"
   ]
  },
  {
   "cell_type": "markdown",
   "metadata": {},
   "source": [
    "### Tercera Parte"
   ]
  },
  {
   "cell_type": "code",
   "execution_count": null,
   "metadata": {},
   "outputs": [],
   "source": [
    "# Armar un gráfico a partir de algun nuevo análisis que se te ocurra\n",
    "# Completar"
   ]
  }
 ],
 "metadata": {
  "kernelspec": {
   "display_name": "base",
   "language": "python",
   "name": "python3"
  },
  "language_info": {
   "codemirror_mode": {
    "name": "ipython",
    "version": 3
   },
   "file_extension": ".py",
   "mimetype": "text/x-python",
   "name": "python",
   "nbconvert_exporter": "python",
   "pygments_lexer": "ipython3",
   "version": "3.12.7"
  }
 },
 "nbformat": 4,
 "nbformat_minor": 2
}
